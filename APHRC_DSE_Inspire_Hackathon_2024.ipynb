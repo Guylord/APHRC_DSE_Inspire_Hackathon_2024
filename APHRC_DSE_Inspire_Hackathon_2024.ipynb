{
  "cells": [
    {
      "cell_type": "markdown",
      "metadata": {
        "colab_type": "text",
        "id": "view-in-github"
      },
      "source": [
        "<a href=\"https://colab.research.google.com/github/Guylord/APHRC_DSE_Inspire_Hackathon_2024/blob/main/APHRC_DSE_Inspire_Hackathon_2024.ipynb\" target=\"_parent\"><img src=\"https://colab.research.google.com/assets/colab-badge.svg\" alt=\"Open In Colab\"/></a>"
      ]
    },
    {
      "cell_type": "code",
      "execution_count": null,
      "metadata": {
        "colab": {
          "base_uri": "https://localhost:8080/"
        },
        "id": "nGLLP9VNCnIr",
        "outputId": "e2e93164-4589-4f02-ffcc-cea701199afd"
      },
      "outputs": [],
      "source": []
    },
    {
      "cell_type": "code",
      "execution_count": 11,
      "metadata": {
        "colab": {
          "base_uri": "https://localhost:8080/"
        },
        "id": "2Yr-C5J3OSeZ",
        "outputId": "11878c17-0666-43d1-81be-954909b1433b"
      },
      "outputs": [
        {
          "name": "stdout",
          "output_type": "stream",
          "text": [
            "Requirement already satisfied: recordlinkage in c:\\users\\hp\\anaconda3\\lib\\site-packages (0.16)\n",
            "Requirement already satisfied: jellyfish>=1 in c:\\users\\hp\\anaconda3\\lib\\site-packages (from recordlinkage) (1.0.1)\n",
            "Requirement already satisfied: numpy>=1.13 in c:\\users\\hp\\anaconda3\\lib\\site-packages (from recordlinkage) (1.24.3)\n",
            "Requirement already satisfied: pandas<3,>=1 in c:\\users\\hp\\anaconda3\\lib\\site-packages (from recordlinkage) (2.0.3)\n",
            "Requirement already satisfied: scipy>=1 in c:\\users\\hp\\appdata\\roaming\\python\\python311\\site-packages (from recordlinkage) (1.11.4)\n",
            "Requirement already satisfied: scikit-learn>=1 in c:\\users\\hp\\appdata\\roaming\\python\\python311\\site-packages (from recordlinkage) (1.3.2)\n",
            "Requirement already satisfied: joblib in c:\\users\\hp\\appdata\\roaming\\python\\python311\\site-packages (from recordlinkage) (1.3.2)\n",
            "Requirement already satisfied: python-dateutil>=2.8.2 in c:\\users\\hp\\anaconda3\\lib\\site-packages (from pandas<3,>=1->recordlinkage) (2.8.2)\n",
            "Requirement already satisfied: pytz>=2020.1 in c:\\users\\hp\\anaconda3\\lib\\site-packages (from pandas<3,>=1->recordlinkage) (2023.3.post1)\n",
            "Requirement already satisfied: tzdata>=2022.1 in c:\\users\\hp\\anaconda3\\lib\\site-packages (from pandas<3,>=1->recordlinkage) (2023.3)\n",
            "Requirement already satisfied: threadpoolctl>=2.0.0 in c:\\users\\hp\\appdata\\roaming\\python\\python311\\site-packages (from scikit-learn>=1->recordlinkage) (3.2.0)\n",
            "Requirement already satisfied: six>=1.5 in c:\\users\\hp\\anaconda3\\lib\\site-packages (from python-dateutil>=2.8.2->pandas<3,>=1->recordlinkage) (1.16.0)\n",
            "Note: you may need to restart the kernel to use updated packages.\n"
          ]
        },
        {
          "name": "stderr",
          "output_type": "stream",
          "text": [
            "\n",
            "[notice] A new release of pip is available: 23.3.1 -> 24.0\n",
            "[notice] To update, run: python.exe -m pip install --upgrade pip\n"
          ]
        }
      ],
      "source": [
        "pip install recordlinkage"
      ]
    },
    {
      "cell_type": "code",
      "execution_count": 12,
      "metadata": {
        "id": "iwj3atD5-m2C"
      },
      "outputs": [],
      "source": [
        "import pandas as pd\n",
        "import numpy as np\n",
        "import recordlinkage as rl"
      ]
    },
    {
      "cell_type": "code",
      "execution_count": 13,
      "metadata": {
        "colab": {
          "base_uri": "https://localhost:8080/"
        },
        "id": "QI-e8F7F_jXu",
        "outputId": "077aa0a6-fd82-400f-9125-02f62b626fa2"
      },
      "outputs": [
        {
          "name": "stdout",
          "output_type": "stream",
          "text": [
            "HDSS INFO\n",
            "<class 'pandas.core.frame.DataFrame'>\n",
            "RangeIndex: 2902 entries, 0 to 2901\n",
            "Data columns (total 9 columns):\n",
            " #   Column      Non-Null Count  Dtype \n",
            "---  ------      --------------  ----- \n",
            " 0   recnr       2902 non-null   int64 \n",
            " 1   firstname   2902 non-null   object\n",
            " 2   lastname    2835 non-null   object\n",
            " 3   petname     2511 non-null   object\n",
            " 4   dob         2902 non-null   object\n",
            " 5   sex         2902 non-null   int64 \n",
            " 6   nationalid  2902 non-null   object\n",
            " 7   patientid   2902 non-null   int64 \n",
            " 8   visitdate   2902 non-null   object\n",
            "dtypes: int64(3), object(6)\n",
            "memory usage: 204.2+ KB\n",
            "\n",
            "\n",
            "FACILITY INFO\n",
            "<class 'pandas.core.frame.DataFrame'>\n",
            "RangeIndex: 2902 entries, 0 to 2901\n",
            "Data columns (total 9 columns):\n",
            " #   Column      Non-Null Count  Dtype \n",
            "---  ------      --------------  ----- \n",
            " 0   recnr       2902 non-null   int64 \n",
            " 1   firstname   2902 non-null   object\n",
            " 2   lastname    2835 non-null   object\n",
            " 3   petname     2511 non-null   object\n",
            " 4   dob         2902 non-null   object\n",
            " 5   sex         2902 non-null   int64 \n",
            " 6   nationalid  2902 non-null   object\n",
            " 7   patientid   2902 non-null   int64 \n",
            " 8   visitdate   2902 non-null   object\n",
            "dtypes: int64(3), object(6)\n",
            "memory usage: 204.2+ KB\n"
          ]
        }
      ],
      "source": [
        "hdss_df = pd.read_csv(r'C:\\Users\\hp\\Desktop\\Records\\APHRC_DSE_Inspire_Hackathon_2024\\synthetic_facility_v3.csv')\n",
        "facility_df = pd.read_csv(r'C:\\Users\\hp\\Desktop\\Records\\APHRC_DSE_Inspire_Hackathon_2024\\synthetic_facility_v3.csv')\n",
        "\n",
        "print('HDSS INFO')\n",
        "hdss_df.info()\n",
        "print('\\n\\nFACILITY INFO')\n",
        "facility_df.info()"
      ]
    },
    {
      "cell_type": "markdown",
      "metadata": {
        "id": "aMReWkB-LFCI"
      },
      "source": [
        "# *FACILITY dataset*"
      ]
    },
    {
      "cell_type": "code",
      "execution_count": 14,
      "metadata": {
        "colab": {
          "base_uri": "https://localhost:8080/",
          "height": 206
        },
        "id": "_5t0sWOMCuYy",
        "outputId": "3827a1fd-f416-4e62-de18-bf306c03a550"
      },
      "outputs": [
        {
          "data": {
            "text/html": [
              "<div>\n",
              "<style scoped>\n",
              "    .dataframe tbody tr th:only-of-type {\n",
              "        vertical-align: middle;\n",
              "    }\n",
              "\n",
              "    .dataframe tbody tr th {\n",
              "        vertical-align: top;\n",
              "    }\n",
              "\n",
              "    .dataframe thead th {\n",
              "        text-align: right;\n",
              "    }\n",
              "</style>\n",
              "<table border=\"1\" class=\"dataframe\">\n",
              "  <thead>\n",
              "    <tr style=\"text-align: right;\">\n",
              "      <th></th>\n",
              "      <th>recnr</th>\n",
              "      <th>firstname</th>\n",
              "      <th>lastname</th>\n",
              "      <th>petname</th>\n",
              "      <th>dob</th>\n",
              "      <th>sex</th>\n",
              "      <th>nationalid</th>\n",
              "      <th>patientid</th>\n",
              "      <th>visitdate</th>\n",
              "    </tr>\n",
              "  </thead>\n",
              "  <tbody>\n",
              "    <tr>\n",
              "      <th>0</th>\n",
              "      <td>2</td>\n",
              "      <td>Fatuma</td>\n",
              "      <td>NaN</td>\n",
              "      <td>Zaina</td>\n",
              "      <td>24-08-2017 00:00</td>\n",
              "      <td>2</td>\n",
              "      <td>N_ID_5000</td>\n",
              "      <td>2069</td>\n",
              "      <td>10-09-2018</td>\n",
              "    </tr>\n",
              "    <tr>\n",
              "      <th>1</th>\n",
              "      <td>3</td>\n",
              "      <td>Gloria</td>\n",
              "      <td>Rashida</td>\n",
              "      <td>NaN</td>\n",
              "      <td>11-07-1993 00:00</td>\n",
              "      <td>2</td>\n",
              "      <td>N_ID_11861</td>\n",
              "      <td>2079</td>\n",
              "      <td>14-12-2022</td>\n",
              "    </tr>\n",
              "    <tr>\n",
              "      <th>2</th>\n",
              "      <td>4</td>\n",
              "      <td>Ali</td>\n",
              "      <td>Hakram</td>\n",
              "      <td>Igomu</td>\n",
              "      <td>17-05-2014 00:00</td>\n",
              "      <td>1</td>\n",
              "      <td>N_ID_11864</td>\n",
              "      <td>2080</td>\n",
              "      <td>09-06-2023</td>\n",
              "    </tr>\n",
              "    <tr>\n",
              "      <th>3</th>\n",
              "      <td>5</td>\n",
              "      <td>Nakalema</td>\n",
              "      <td>NaN</td>\n",
              "      <td>Nkwanga</td>\n",
              "      <td>27-02-2026 00:00</td>\n",
              "      <td>2</td>\n",
              "      <td>N_ID_11867</td>\n",
              "      <td>2081</td>\n",
              "      <td>07-02-2019</td>\n",
              "    </tr>\n",
              "    <tr>\n",
              "      <th>4</th>\n",
              "      <td>6</td>\n",
              "      <td>Asuman</td>\n",
              "      <td>Sempa</td>\n",
              "      <td>Aguti</td>\n",
              "      <td>02-03-2002 00:00</td>\n",
              "      <td>1</td>\n",
              "      <td>N_ID_11870</td>\n",
              "      <td>2082</td>\n",
              "      <td>18-08-2020</td>\n",
              "    </tr>\n",
              "  </tbody>\n",
              "</table>\n",
              "</div>"
            ],
            "text/plain": [
              "   recnr firstname lastname  petname               dob  sex  nationalid  \\\n",
              "0      2    Fatuma      NaN    Zaina  24-08-2017 00:00    2   N_ID_5000   \n",
              "1      3    Gloria  Rashida      NaN  11-07-1993 00:00    2  N_ID_11861   \n",
              "2      4       Ali   Hakram    Igomu  17-05-2014 00:00    1  N_ID_11864   \n",
              "3      5  Nakalema      NaN  Nkwanga  27-02-2026 00:00    2  N_ID_11867   \n",
              "4      6    Asuman    Sempa    Aguti  02-03-2002 00:00    1  N_ID_11870   \n",
              "\n",
              "   patientid   visitdate  \n",
              "0       2069  10-09-2018  \n",
              "1       2079  14-12-2022  \n",
              "2       2080  09-06-2023  \n",
              "3       2081  07-02-2019  \n",
              "4       2082  18-08-2020  "
            ]
          },
          "execution_count": 14,
          "metadata": {},
          "output_type": "execute_result"
        }
      ],
      "source": [
        "facility_df.head()"
      ]
    },
    {
      "cell_type": "code",
      "execution_count": 15,
      "metadata": {
        "id": "NdD5CmxesPEw"
      },
      "outputs": [],
      "source": [
        "facility_df.set_index('recnr', inplace=True)"
      ]
    },
    {
      "cell_type": "code",
      "execution_count": 16,
      "metadata": {
        "id": "6m-WmwsuOM1B"
      },
      "outputs": [],
      "source": [
        "from recordlinkage.preprocessing import clean\n",
        "\n",
        "for col in facility_df.select_dtypes('object').columns:\n",
        "  clean(facility_df[col], replace_by_none='[^ \\\\-\\\\_A-Za-z0-9]+', remove_brackets=True)"
      ]
    },
    {
      "cell_type": "code",
      "execution_count": 17,
      "metadata": {
        "id": "q5z2poS8WnUt"
      },
      "outputs": [],
      "source": [
        "facility_df['fullname'] = facility_df['firstname'].fillna('') + ' ' + facility_df['lastname'].fillna('') + ' ' + facility_df['petname'].fillna('')"
      ]
    },
    {
      "cell_type": "code",
      "execution_count": 20,
      "metadata": {
        "colab": {
          "base_uri": "https://localhost:8080/"
        },
        "id": "HR6ltZeWBore",
        "outputId": "683979e7-4791-43f2-b132-20ffef100647"
      },
      "outputs": [],
      "source": [
        "facility_df['dob'] = pd.to_datetime(facility_df['dob'])\n",
        "facility_df['visitdate'] = pd.to_datetime(facility_df['visitdate'], format='%d-%m-%Y')"
      ]
    },
    {
      "cell_type": "code",
      "execution_count": 21,
      "metadata": {
        "colab": {
          "base_uri": "https://localhost:8080/"
        },
        "id": "JBBYR6nyAE_e",
        "outputId": "66f798f8-7907-480f-a0f7-45e32e9a2ef9"
      },
      "outputs": [
        {
          "data": {
            "text/plain": [
              "firstname       0\n",
              "lastname       67\n",
              "petname       391\n",
              "dob             0\n",
              "sex             0\n",
              "nationalid      0\n",
              "patientid       0\n",
              "visitdate       0\n",
              "fullname        0\n",
              "dtype: int64"
            ]
          },
          "execution_count": 21,
          "metadata": {},
          "output_type": "execute_result"
        }
      ],
      "source": [
        "facility_df.isna().sum()"
      ]
    },
    {
      "cell_type": "code",
      "execution_count": 22,
      "metadata": {
        "colab": {
          "base_uri": "https://localhost:8080/"
        },
        "id": "4izqNnbHAxA-",
        "outputId": "ace0f05b-2f7a-49e7-d382-4b6b03e285dc"
      },
      "outputs": [
        {
          "data": {
            "text/plain": [
              "0"
            ]
          },
          "execution_count": 22,
          "metadata": {},
          "output_type": "execute_result"
        }
      ],
      "source": [
        "facility_df.duplicated().sum()"
      ]
    },
    {
      "cell_type": "code",
      "execution_count": 23,
      "metadata": {
        "colab": {
          "base_uri": "https://localhost:8080/",
          "height": 394
        },
        "id": "OrId65v1DeDb",
        "outputId": "400c8045-e694-42da-c32e-5463b9b8e5ad"
      },
      "outputs": [
        {
          "data": {
            "text/html": [
              "<div>\n",
              "<style scoped>\n",
              "    .dataframe tbody tr th:only-of-type {\n",
              "        vertical-align: middle;\n",
              "    }\n",
              "\n",
              "    .dataframe tbody tr th {\n",
              "        vertical-align: top;\n",
              "    }\n",
              "\n",
              "    .dataframe thead th {\n",
              "        text-align: right;\n",
              "    }\n",
              "</style>\n",
              "<table border=\"1\" class=\"dataframe\">\n",
              "  <thead>\n",
              "    <tr style=\"text-align: right;\">\n",
              "      <th></th>\n",
              "      <th>firstname</th>\n",
              "      <th>lastname</th>\n",
              "      <th>petname</th>\n",
              "      <th>dob</th>\n",
              "      <th>sex</th>\n",
              "      <th>nationalid</th>\n",
              "      <th>patientid</th>\n",
              "      <th>visitdate</th>\n",
              "      <th>fullname</th>\n",
              "    </tr>\n",
              "    <tr>\n",
              "      <th>recnr</th>\n",
              "      <th></th>\n",
              "      <th></th>\n",
              "      <th></th>\n",
              "      <th></th>\n",
              "      <th></th>\n",
              "      <th></th>\n",
              "      <th></th>\n",
              "      <th></th>\n",
              "      <th></th>\n",
              "    </tr>\n",
              "  </thead>\n",
              "  <tbody>\n",
              "    <tr>\n",
              "      <th>2686</th>\n",
              "      <td>Abubakali</td>\n",
              "      <td>Lunkumu</td>\n",
              "      <td>Jjunju</td>\n",
              "      <td>1934-08-07</td>\n",
              "      <td>1</td>\n",
              "      <td>N_ID_13055</td>\n",
              "      <td>4754</td>\n",
              "      <td>2019-06-01</td>\n",
              "      <td>Abubakali Lunkumu Jjunju</td>\n",
              "    </tr>\n",
              "    <tr>\n",
              "      <th>2583</th>\n",
              "      <td>Abubakali</td>\n",
              "      <td>Lunkumu</td>\n",
              "      <td>Jjunju</td>\n",
              "      <td>1934-08-07</td>\n",
              "      <td>1</td>\n",
              "      <td>N_ID_12749</td>\n",
              "      <td>4651</td>\n",
              "      <td>2022-12-21</td>\n",
              "      <td>Abubakali Lunkumu Jjunju</td>\n",
              "    </tr>\n",
              "    <tr>\n",
              "      <th>1162</th>\n",
              "      <td>Abuneli</td>\n",
              "      <td>Lawrence</td>\n",
              "      <td>Asega</td>\n",
              "      <td>1959-08-11</td>\n",
              "      <td>1</td>\n",
              "      <td>N_ID_8444</td>\n",
              "      <td>3231</td>\n",
              "      <td>2019-09-20</td>\n",
              "      <td>Abuneli Lawrence Asega</td>\n",
              "    </tr>\n",
              "    <tr>\n",
              "      <th>575</th>\n",
              "      <td>Abuneli</td>\n",
              "      <td>Lawrence</td>\n",
              "      <td>Asega</td>\n",
              "      <td>1959-08-11</td>\n",
              "      <td>1</td>\n",
              "      <td>N_ID_6689</td>\n",
              "      <td>2645</td>\n",
              "      <td>2022-07-03</td>\n",
              "      <td>Abuneli Lawrence Asega</td>\n",
              "    </tr>\n",
              "    <tr>\n",
              "      <th>2533</th>\n",
              "      <td>Aidah</td>\n",
              "      <td>Fatuma</td>\n",
              "      <td>Aya</td>\n",
              "      <td>2011-12-13</td>\n",
              "      <td>2</td>\n",
              "      <td>N_ID_12599</td>\n",
              "      <td>4601</td>\n",
              "      <td>2020-06-23</td>\n",
              "      <td>Aidah Fatuma Aya</td>\n",
              "    </tr>\n",
              "    <tr>\n",
              "      <th>2590</th>\n",
              "      <td>Aidah</td>\n",
              "      <td>Fatuma</td>\n",
              "      <td>Aya</td>\n",
              "      <td>2011-12-13</td>\n",
              "      <td>2</td>\n",
              "      <td>N_ID_12770</td>\n",
              "      <td>4658</td>\n",
              "      <td>2020-04-19</td>\n",
              "      <td>Aidah Fatuma Aya</td>\n",
              "    </tr>\n",
              "    <tr>\n",
              "      <th>629</th>\n",
              "      <td>Akello</td>\n",
              "      <td>Jesca</td>\n",
              "      <td>Barungi</td>\n",
              "      <td>1937-12-20</td>\n",
              "      <td>2</td>\n",
              "      <td>N_ID_6851</td>\n",
              "      <td>2699</td>\n",
              "      <td>2023-06-08</td>\n",
              "      <td>Akello Jesca Barungi</td>\n",
              "    </tr>\n",
              "    <tr>\n",
              "      <th>1299</th>\n",
              "      <td>Akello</td>\n",
              "      <td>Jesca</td>\n",
              "      <td>Barungi</td>\n",
              "      <td>1937-12-20</td>\n",
              "      <td>2</td>\n",
              "      <td>N_ID_8855</td>\n",
              "      <td>3368</td>\n",
              "      <td>2022-08-13</td>\n",
              "      <td>Akello Jesca Barungi</td>\n",
              "    </tr>\n",
              "    <tr>\n",
              "      <th>1633</th>\n",
              "      <td>Alex</td>\n",
              "      <td>Idinda</td>\n",
              "      <td>Nakato</td>\n",
              "      <td>1967-10-08</td>\n",
              "      <td>1</td>\n",
              "      <td>N_ID_9860</td>\n",
              "      <td>3702</td>\n",
              "      <td>2020-01-10</td>\n",
              "      <td>Alex Idinda Nakato</td>\n",
              "    </tr>\n",
              "    <tr>\n",
              "      <th>609</th>\n",
              "      <td>Alex</td>\n",
              "      <td>Idinda</td>\n",
              "      <td>Nakato</td>\n",
              "      <td>1967-10-08</td>\n",
              "      <td>1</td>\n",
              "      <td>N_ID_6791</td>\n",
              "      <td>2679</td>\n",
              "      <td>2020-11-27</td>\n",
              "      <td>Alex Idinda Nakato</td>\n",
              "    </tr>\n",
              "  </tbody>\n",
              "</table>\n",
              "</div>"
            ],
            "text/plain": [
              "       firstname  lastname  petname        dob  sex  nationalid  patientid  \\\n",
              "recnr                                                                        \n",
              "2686   Abubakali   Lunkumu   Jjunju 1934-08-07    1  N_ID_13055       4754   \n",
              "2583   Abubakali   Lunkumu   Jjunju 1934-08-07    1  N_ID_12749       4651   \n",
              "1162     Abuneli  Lawrence    Asega 1959-08-11    1   N_ID_8444       3231   \n",
              "575      Abuneli  Lawrence    Asega 1959-08-11    1   N_ID_6689       2645   \n",
              "2533       Aidah    Fatuma      Aya 2011-12-13    2  N_ID_12599       4601   \n",
              "2590       Aidah    Fatuma      Aya 2011-12-13    2  N_ID_12770       4658   \n",
              "629       Akello     Jesca  Barungi 1937-12-20    2   N_ID_6851       2699   \n",
              "1299      Akello     Jesca  Barungi 1937-12-20    2   N_ID_8855       3368   \n",
              "1633        Alex    Idinda   Nakato 1967-10-08    1   N_ID_9860       3702   \n",
              "609         Alex    Idinda   Nakato 1967-10-08    1   N_ID_6791       2679   \n",
              "\n",
              "       visitdate                  fullname  \n",
              "recnr                                       \n",
              "2686  2019-06-01  Abubakali Lunkumu Jjunju  \n",
              "2583  2022-12-21  Abubakali Lunkumu Jjunju  \n",
              "1162  2019-09-20    Abuneli Lawrence Asega  \n",
              "575   2022-07-03    Abuneli Lawrence Asega  \n",
              "2533  2020-06-23          Aidah Fatuma Aya  \n",
              "2590  2020-04-19          Aidah Fatuma Aya  \n",
              "629   2023-06-08      Akello Jesca Barungi  \n",
              "1299  2022-08-13      Akello Jesca Barungi  \n",
              "1633  2020-01-10        Alex Idinda Nakato  \n",
              "609   2020-11-27        Alex Idinda Nakato  "
            ]
          },
          "execution_count": 23,
          "metadata": {},
          "output_type": "execute_result"
        }
      ],
      "source": [
        "facility_df[facility_df.duplicated(subset=['fullname', 'dob', 'sex'], keep=False)].sort_values('fullname').head(10)"
      ]
    },
    {
      "cell_type": "code",
      "execution_count": 24,
      "metadata": {
        "colab": {
          "base_uri": "https://localhost:8080/"
        },
        "id": "Bxi3yuOuKZoM",
        "outputId": "548eae22-240f-47a9-c19b-3dd7b96815be"
      },
      "outputs": [
        {
          "data": {
            "text/plain": [
              "0"
            ]
          },
          "execution_count": 24,
          "metadata": {},
          "output_type": "execute_result"
        }
      ],
      "source": [
        "facility_df.duplicated(subset='nationalid', keep=False).sum()"
      ]
    },
    {
      "cell_type": "markdown",
      "metadata": {
        "id": "UZGjFtTSLacM"
      },
      "source": [
        "\n",
        "\n",
        "* It's evident that some records have the same entries for 'firstname,' 'lastname,' 'petname,' and 'dob,' implying that they refer to the same entity but with different 'nationalid' entries during various visits to the facility. This suggests that individuals visiting the facility did not retain a single 'nationalid,' rendering 'nationalid' unusable as a unique identifier\n",
        "\n",
        "* Individuals have different 'patientid' entries at each visit to the health facility\n",
        "\n",
        "\n",
        "\n",
        "\n"
      ]
    },
    {
      "cell_type": "code",
      "execution_count": null,
      "metadata": {
        "id": "1hROH5ueKaC5"
      },
      "outputs": [],
      "source": []
    },
    {
      "cell_type": "code",
      "execution_count": null,
      "metadata": {
        "id": "J-AKl6vcKaMT"
      },
      "outputs": [],
      "source": []
    },
    {
      "cell_type": "code",
      "execution_count": null,
      "metadata": {
        "id": "7WRmTG9QKaWU"
      },
      "outputs": [],
      "source": []
    },
    {
      "cell_type": "markdown",
      "metadata": {
        "id": "tdouaUYnKnoM"
      },
      "source": [
        "# *HDSS dataset*"
      ]
    },
    {
      "cell_type": "code",
      "execution_count": 25,
      "metadata": {
        "colab": {
          "base_uri": "https://localhost:8080/",
          "height": 206
        },
        "id": "wjjEz8YxzvqC",
        "outputId": "e3687f73-f7e2-4d4f-9bdc-1859daab9680"
      },
      "outputs": [
        {
          "data": {
            "text/html": [
              "<div>\n",
              "<style scoped>\n",
              "    .dataframe tbody tr th:only-of-type {\n",
              "        vertical-align: middle;\n",
              "    }\n",
              "\n",
              "    .dataframe tbody tr th {\n",
              "        vertical-align: top;\n",
              "    }\n",
              "\n",
              "    .dataframe thead th {\n",
              "        text-align: right;\n",
              "    }\n",
              "</style>\n",
              "<table border=\"1\" class=\"dataframe\">\n",
              "  <thead>\n",
              "    <tr style=\"text-align: right;\">\n",
              "      <th></th>\n",
              "      <th>recnr</th>\n",
              "      <th>firstname</th>\n",
              "      <th>lastname</th>\n",
              "      <th>petname</th>\n",
              "      <th>dob</th>\n",
              "      <th>sex</th>\n",
              "      <th>nationalid</th>\n",
              "      <th>patientid</th>\n",
              "      <th>visitdate</th>\n",
              "    </tr>\n",
              "  </thead>\n",
              "  <tbody>\n",
              "    <tr>\n",
              "      <th>0</th>\n",
              "      <td>2</td>\n",
              "      <td>Fatuma</td>\n",
              "      <td>NaN</td>\n",
              "      <td>Zaina</td>\n",
              "      <td>24-08-2017 00:00</td>\n",
              "      <td>2</td>\n",
              "      <td>N_ID_5000</td>\n",
              "      <td>2069</td>\n",
              "      <td>10-09-2018</td>\n",
              "    </tr>\n",
              "    <tr>\n",
              "      <th>1</th>\n",
              "      <td>3</td>\n",
              "      <td>Gloria</td>\n",
              "      <td>Rashida</td>\n",
              "      <td>NaN</td>\n",
              "      <td>11-07-1993 00:00</td>\n",
              "      <td>2</td>\n",
              "      <td>N_ID_11861</td>\n",
              "      <td>2079</td>\n",
              "      <td>14-12-2022</td>\n",
              "    </tr>\n",
              "    <tr>\n",
              "      <th>2</th>\n",
              "      <td>4</td>\n",
              "      <td>Ali</td>\n",
              "      <td>Hakram</td>\n",
              "      <td>Igomu</td>\n",
              "      <td>17-05-2014 00:00</td>\n",
              "      <td>1</td>\n",
              "      <td>N_ID_11864</td>\n",
              "      <td>2080</td>\n",
              "      <td>09-06-2023</td>\n",
              "    </tr>\n",
              "    <tr>\n",
              "      <th>3</th>\n",
              "      <td>5</td>\n",
              "      <td>Nakalema</td>\n",
              "      <td>NaN</td>\n",
              "      <td>Nkwanga</td>\n",
              "      <td>27-02-2026 00:00</td>\n",
              "      <td>2</td>\n",
              "      <td>N_ID_11867</td>\n",
              "      <td>2081</td>\n",
              "      <td>07-02-2019</td>\n",
              "    </tr>\n",
              "    <tr>\n",
              "      <th>4</th>\n",
              "      <td>6</td>\n",
              "      <td>Asuman</td>\n",
              "      <td>Sempa</td>\n",
              "      <td>Aguti</td>\n",
              "      <td>02-03-2002 00:00</td>\n",
              "      <td>1</td>\n",
              "      <td>N_ID_11870</td>\n",
              "      <td>2082</td>\n",
              "      <td>18-08-2020</td>\n",
              "    </tr>\n",
              "  </tbody>\n",
              "</table>\n",
              "</div>"
            ],
            "text/plain": [
              "   recnr firstname lastname  petname               dob  sex  nationalid  \\\n",
              "0      2    Fatuma      NaN    Zaina  24-08-2017 00:00    2   N_ID_5000   \n",
              "1      3    Gloria  Rashida      NaN  11-07-1993 00:00    2  N_ID_11861   \n",
              "2      4       Ali   Hakram    Igomu  17-05-2014 00:00    1  N_ID_11864   \n",
              "3      5  Nakalema      NaN  Nkwanga  27-02-2026 00:00    2  N_ID_11867   \n",
              "4      6    Asuman    Sempa    Aguti  02-03-2002 00:00    1  N_ID_11870   \n",
              "\n",
              "   patientid   visitdate  \n",
              "0       2069  10-09-2018  \n",
              "1       2079  14-12-2022  \n",
              "2       2080  09-06-2023  \n",
              "3       2081  07-02-2019  \n",
              "4       2082  18-08-2020  "
            ]
          },
          "execution_count": 25,
          "metadata": {},
          "output_type": "execute_result"
        }
      ],
      "source": [
        "hdss_df.head()"
      ]
    },
    {
      "cell_type": "code",
      "execution_count": 26,
      "metadata": {
        "id": "FK7wkh5Lsitw"
      },
      "outputs": [],
      "source": [
        "hdss_df.set_index('recnr', inplace=True)"
      ]
    },
    {
      "cell_type": "code",
      "execution_count": 27,
      "metadata": {
        "id": "D6PEjC9t6JS-"
      },
      "outputs": [],
      "source": [
        "for col in hdss_df.select_dtypes('object').columns:\n",
        "  clean(hdss_df[col], replace_by_none='[^ \\\\-\\\\_A-Za-z0-9]+', remove_brackets=True)"
      ]
    },
    {
      "cell_type": "code",
      "execution_count": 28,
      "metadata": {
        "id": "dU66uJkQaAbp"
      },
      "outputs": [],
      "source": [
        "hdss_df['fullname'] = hdss_df['firstname'].fillna('') + ' ' + hdss_df['lastname'].fillna('') + ' ' + hdss_df['petname'].fillna('')"
      ]
    },
    {
      "cell_type": "code",
      "execution_count": 29,
      "metadata": {
        "id": "5VQmIY-0Qswf"
      },
      "outputs": [
        {
          "name": "stderr",
          "output_type": "stream",
          "text": [
            "C:\\Users\\hp\\AppData\\Local\\Temp\\ipykernel_24636\\3528711419.py:1: UserWarning: Parsing dates in %d-%m-%Y %H:%M format when dayfirst=False (the default) was specified. Pass `dayfirst=True` or specify a format to silence this warning.\n",
            "  hdss_df['dob'] = pd.to_datetime(hdss_df['dob'])\n"
          ]
        }
      ],
      "source": [
        "hdss_df['dob'] = pd.to_datetime(hdss_df['dob'])"
      ]
    },
    {
      "cell_type": "code",
      "execution_count": 30,
      "metadata": {
        "colab": {
          "base_uri": "https://localhost:8080/"
        },
        "id": "fuN48cdR_lNd",
        "outputId": "578af328-68d4-41b3-c192-5063d49fc520"
      },
      "outputs": [
        {
          "data": {
            "text/plain": [
              "firstname       0\n",
              "lastname       67\n",
              "petname       391\n",
              "dob             0\n",
              "sex             0\n",
              "nationalid      0\n",
              "patientid       0\n",
              "visitdate       0\n",
              "fullname        0\n",
              "dtype: int64"
            ]
          },
          "execution_count": 30,
          "metadata": {},
          "output_type": "execute_result"
        }
      ],
      "source": [
        "hdss_df.isna().sum()"
      ]
    },
    {
      "cell_type": "code",
      "execution_count": 31,
      "metadata": {
        "colab": {
          "base_uri": "https://localhost:8080/"
        },
        "id": "2N7tFRQB615T",
        "outputId": "2b6c0c2a-a503-430b-e84b-9f5828715042"
      },
      "outputs": [
        {
          "data": {
            "text/plain": [
              "0"
            ]
          },
          "execution_count": 31,
          "metadata": {},
          "output_type": "execute_result"
        }
      ],
      "source": [
        "hdss_df.duplicated().sum()"
      ]
    },
    {
      "cell_type": "code",
      "execution_count": 32,
      "metadata": {
        "colab": {
          "base_uri": "https://localhost:8080/",
          "height": 81
        },
        "id": "b6JVfrrgmK8P",
        "outputId": "651c7203-195c-4602-c84a-49a6d13b8a28"
      },
      "outputs": [
        {
          "data": {
            "text/html": [
              "<div>\n",
              "<style scoped>\n",
              "    .dataframe tbody tr th:only-of-type {\n",
              "        vertical-align: middle;\n",
              "    }\n",
              "\n",
              "    .dataframe tbody tr th {\n",
              "        vertical-align: top;\n",
              "    }\n",
              "\n",
              "    .dataframe thead th {\n",
              "        text-align: right;\n",
              "    }\n",
              "</style>\n",
              "<table border=\"1\" class=\"dataframe\">\n",
              "  <thead>\n",
              "    <tr style=\"text-align: right;\">\n",
              "      <th></th>\n",
              "      <th>firstname</th>\n",
              "      <th>lastname</th>\n",
              "      <th>petname</th>\n",
              "      <th>dob</th>\n",
              "      <th>sex</th>\n",
              "      <th>nationalid</th>\n",
              "      <th>patientid</th>\n",
              "      <th>visitdate</th>\n",
              "      <th>fullname</th>\n",
              "    </tr>\n",
              "    <tr>\n",
              "      <th>recnr</th>\n",
              "      <th></th>\n",
              "      <th></th>\n",
              "      <th></th>\n",
              "      <th></th>\n",
              "      <th></th>\n",
              "      <th></th>\n",
              "      <th></th>\n",
              "      <th></th>\n",
              "      <th></th>\n",
              "    </tr>\n",
              "  </thead>\n",
              "  <tbody>\n",
              "    <tr>\n",
              "      <th>2686</th>\n",
              "      <td>Abubakali</td>\n",
              "      <td>Lunkumu</td>\n",
              "      <td>Jjunju</td>\n",
              "      <td>1934-08-07</td>\n",
              "      <td>1</td>\n",
              "      <td>N_ID_13055</td>\n",
              "      <td>4754</td>\n",
              "      <td>01-06-2019</td>\n",
              "      <td>Abubakali Lunkumu Jjunju</td>\n",
              "    </tr>\n",
              "    <tr>\n",
              "      <th>2583</th>\n",
              "      <td>Abubakali</td>\n",
              "      <td>Lunkumu</td>\n",
              "      <td>Jjunju</td>\n",
              "      <td>1934-08-07</td>\n",
              "      <td>1</td>\n",
              "      <td>N_ID_12749</td>\n",
              "      <td>4651</td>\n",
              "      <td>21-12-2022</td>\n",
              "      <td>Abubakali Lunkumu Jjunju</td>\n",
              "    </tr>\n",
              "    <tr>\n",
              "      <th>1162</th>\n",
              "      <td>Abuneli</td>\n",
              "      <td>Lawrence</td>\n",
              "      <td>Asega</td>\n",
              "      <td>1959-08-11</td>\n",
              "      <td>1</td>\n",
              "      <td>N_ID_8444</td>\n",
              "      <td>3231</td>\n",
              "      <td>20-09-2019</td>\n",
              "      <td>Abuneli Lawrence Asega</td>\n",
              "    </tr>\n",
              "    <tr>\n",
              "      <th>575</th>\n",
              "      <td>Abuneli</td>\n",
              "      <td>Lawrence</td>\n",
              "      <td>Asega</td>\n",
              "      <td>1959-08-11</td>\n",
              "      <td>1</td>\n",
              "      <td>N_ID_6689</td>\n",
              "      <td>2645</td>\n",
              "      <td>03-07-2022</td>\n",
              "      <td>Abuneli Lawrence Asega</td>\n",
              "    </tr>\n",
              "    <tr>\n",
              "      <th>2533</th>\n",
              "      <td>Aidah</td>\n",
              "      <td>Fatuma</td>\n",
              "      <td>Aya</td>\n",
              "      <td>2011-12-13</td>\n",
              "      <td>2</td>\n",
              "      <td>N_ID_12599</td>\n",
              "      <td>4601</td>\n",
              "      <td>23-06-2020</td>\n",
              "      <td>Aidah Fatuma Aya</td>\n",
              "    </tr>\n",
              "    <tr>\n",
              "      <th>...</th>\n",
              "      <td>...</td>\n",
              "      <td>...</td>\n",
              "      <td>...</td>\n",
              "      <td>...</td>\n",
              "      <td>...</td>\n",
              "      <td>...</td>\n",
              "      <td>...</td>\n",
              "      <td>...</td>\n",
              "      <td>...</td>\n",
              "    </tr>\n",
              "    <tr>\n",
              "      <th>1028</th>\n",
              "      <td>Zawumina</td>\n",
              "      <td>Nakaziba</td>\n",
              "      <td>Kamau</td>\n",
              "      <td>1959-09-21</td>\n",
              "      <td>2</td>\n",
              "      <td>N_ID_8045</td>\n",
              "      <td>3097</td>\n",
              "      <td>23-09-2020</td>\n",
              "      <td>Zawumina Nakaziba Kamau</td>\n",
              "    </tr>\n",
              "    <tr>\n",
              "      <th>2901</th>\n",
              "      <td>Ziriya</td>\n",
              "      <td>Kauma</td>\n",
              "      <td>Kato</td>\n",
              "      <td>1963-11-11</td>\n",
              "      <td>2</td>\n",
              "      <td>N_ID_13682</td>\n",
              "      <td>4963</td>\n",
              "      <td>27-12-2018</td>\n",
              "      <td>Ziriya Kauma Kato</td>\n",
              "    </tr>\n",
              "    <tr>\n",
              "      <th>1310</th>\n",
              "      <td>Ziriya</td>\n",
              "      <td>Kauma</td>\n",
              "      <td>Kato</td>\n",
              "      <td>1963-11-11</td>\n",
              "      <td>2</td>\n",
              "      <td>N_ID_8888</td>\n",
              "      <td>3379</td>\n",
              "      <td>20-12-2021</td>\n",
              "      <td>Ziriya Kauma Kato</td>\n",
              "    </tr>\n",
              "    <tr>\n",
              "      <th>633</th>\n",
              "      <td>Zubedah</td>\n",
              "      <td>Nakaziba</td>\n",
              "      <td>Nakalanzi</td>\n",
              "      <td>1982-03-03</td>\n",
              "      <td>2</td>\n",
              "      <td>N_ID_6863</td>\n",
              "      <td>2703</td>\n",
              "      <td>28-04-2023</td>\n",
              "      <td>Zubedah Nakaziba Nakalanzi</td>\n",
              "    </tr>\n",
              "    <tr>\n",
              "      <th>2470</th>\n",
              "      <td>Zubedah</td>\n",
              "      <td>Nakaziba</td>\n",
              "      <td>Nakalanzi</td>\n",
              "      <td>1982-03-03</td>\n",
              "      <td>2</td>\n",
              "      <td>N_ID_12407</td>\n",
              "      <td>4537</td>\n",
              "      <td>12-05-2023</td>\n",
              "      <td>Zubedah Nakaziba Nakalanzi</td>\n",
              "    </tr>\n",
              "  </tbody>\n",
              "</table>\n",
              "<p>569 rows × 9 columns</p>\n",
              "</div>"
            ],
            "text/plain": [
              "       firstname  lastname    petname        dob  sex  nationalid  patientid  \\\n",
              "recnr                                                                          \n",
              "2686   Abubakali   Lunkumu     Jjunju 1934-08-07    1  N_ID_13055       4754   \n",
              "2583   Abubakali   Lunkumu     Jjunju 1934-08-07    1  N_ID_12749       4651   \n",
              "1162     Abuneli  Lawrence      Asega 1959-08-11    1   N_ID_8444       3231   \n",
              "575      Abuneli  Lawrence      Asega 1959-08-11    1   N_ID_6689       2645   \n",
              "2533       Aidah    Fatuma        Aya 2011-12-13    2  N_ID_12599       4601   \n",
              "...          ...       ...        ...        ...  ...         ...        ...   \n",
              "1028    Zawumina  Nakaziba      Kamau 1959-09-21    2   N_ID_8045       3097   \n",
              "2901      Ziriya     Kauma       Kato 1963-11-11    2  N_ID_13682       4963   \n",
              "1310      Ziriya     Kauma       Kato 1963-11-11    2   N_ID_8888       3379   \n",
              "633      Zubedah  Nakaziba  Nakalanzi 1982-03-03    2   N_ID_6863       2703   \n",
              "2470     Zubedah  Nakaziba  Nakalanzi 1982-03-03    2  N_ID_12407       4537   \n",
              "\n",
              "        visitdate                    fullname  \n",
              "recnr                                          \n",
              "2686   01-06-2019    Abubakali Lunkumu Jjunju  \n",
              "2583   21-12-2022    Abubakali Lunkumu Jjunju  \n",
              "1162   20-09-2019      Abuneli Lawrence Asega  \n",
              "575    03-07-2022      Abuneli Lawrence Asega  \n",
              "2533   23-06-2020            Aidah Fatuma Aya  \n",
              "...           ...                         ...  \n",
              "1028   23-09-2020     Zawumina Nakaziba Kamau  \n",
              "2901   27-12-2018           Ziriya Kauma Kato  \n",
              "1310   20-12-2021           Ziriya Kauma Kato  \n",
              "633    28-04-2023  Zubedah Nakaziba Nakalanzi  \n",
              "2470   12-05-2023  Zubedah Nakaziba Nakalanzi  \n",
              "\n",
              "[569 rows x 9 columns]"
            ]
          },
          "execution_count": 32,
          "metadata": {},
          "output_type": "execute_result"
        }
      ],
      "source": [
        "mask = hdss_df.duplicated(subset=['fullname', 'dob', 'sex'], keep=False)\n",
        "hdss_df[mask].sort_values('fullname')"
      ]
    },
    {
      "cell_type": "code",
      "execution_count": 34,
      "metadata": {
        "colab": {
          "base_uri": "https://localhost:8080/"
        },
        "id": "mNHRD9YaUr5g",
        "outputId": "6cf3178b-1a4e-4def-fa81-84c359fbedcb"
      },
      "outputs": [
        {
          "ename": "KeyError",
          "evalue": "Index(['hdsshhid'], dtype='object')",
          "output_type": "error",
          "traceback": [
            "\u001b[1;31m---------------------------------------------------------------------------\u001b[0m",
            "\u001b[1;31mKeyError\u001b[0m                                  Traceback (most recent call last)",
            "\u001b[1;32m~\\AppData\\Local\\Temp\\ipykernel_24636\\4022223950.py\u001b[0m in \u001b[0;36m?\u001b[1;34m()\u001b[0m\n\u001b[1;32m----> 1\u001b[1;33m \u001b[0mhdss_df\u001b[0m\u001b[1;33m.\u001b[0m\u001b[0mduplicated\u001b[0m\u001b[1;33m(\u001b[0m\u001b[0msubset\u001b[0m\u001b[1;33m=\u001b[0m\u001b[1;34m'hdsshhid'\u001b[0m\u001b[1;33m)\u001b[0m\u001b[1;33m.\u001b[0m\u001b[0msum\u001b[0m\u001b[1;33m(\u001b[0m\u001b[1;33m)\u001b[0m\u001b[1;33m\u001b[0m\u001b[1;33m\u001b[0m\u001b[0m\n\u001b[0m",
            "\u001b[1;32mc:\\Users\\hp\\anaconda3\\Lib\\site-packages\\pandas\\core\\frame.py\u001b[0m in \u001b[0;36m?\u001b[1;34m(self, subset, keep)\u001b[0m\n\u001b[0;32m   6650\u001b[0m         \u001b[1;31m# Otherwise, raise a KeyError, same as if you try to __getitem__ with a\u001b[0m\u001b[1;33m\u001b[0m\u001b[1;33m\u001b[0m\u001b[0m\n\u001b[0;32m   6651\u001b[0m         \u001b[1;31m# key that doesn't exist.\u001b[0m\u001b[1;33m\u001b[0m\u001b[1;33m\u001b[0m\u001b[0m\n\u001b[0;32m   6652\u001b[0m         \u001b[0mdiff\u001b[0m \u001b[1;33m=\u001b[0m \u001b[0mset\u001b[0m\u001b[1;33m(\u001b[0m\u001b[0msubset\u001b[0m\u001b[1;33m)\u001b[0m \u001b[1;33m-\u001b[0m \u001b[0mset\u001b[0m\u001b[1;33m(\u001b[0m\u001b[0mself\u001b[0m\u001b[1;33m.\u001b[0m\u001b[0mcolumns\u001b[0m\u001b[1;33m)\u001b[0m\u001b[1;33m\u001b[0m\u001b[1;33m\u001b[0m\u001b[0m\n\u001b[0;32m   6653\u001b[0m         \u001b[1;32mif\u001b[0m \u001b[0mdiff\u001b[0m\u001b[1;33m:\u001b[0m\u001b[1;33m\u001b[0m\u001b[1;33m\u001b[0m\u001b[0m\n\u001b[1;32m-> 6654\u001b[1;33m             \u001b[1;32mraise\u001b[0m \u001b[0mKeyError\u001b[0m\u001b[1;33m(\u001b[0m\u001b[0mIndex\u001b[0m\u001b[1;33m(\u001b[0m\u001b[0mdiff\u001b[0m\u001b[1;33m)\u001b[0m\u001b[1;33m)\u001b[0m\u001b[1;33m\u001b[0m\u001b[1;33m\u001b[0m\u001b[0m\n\u001b[0m\u001b[0;32m   6655\u001b[0m \u001b[1;33m\u001b[0m\u001b[0m\n\u001b[0;32m   6656\u001b[0m         \u001b[1;32mif\u001b[0m \u001b[0mlen\u001b[0m\u001b[1;33m(\u001b[0m\u001b[0msubset\u001b[0m\u001b[1;33m)\u001b[0m \u001b[1;33m==\u001b[0m \u001b[1;36m1\u001b[0m \u001b[1;32mand\u001b[0m \u001b[0mself\u001b[0m\u001b[1;33m.\u001b[0m\u001b[0mcolumns\u001b[0m\u001b[1;33m.\u001b[0m\u001b[0mis_unique\u001b[0m\u001b[1;33m:\u001b[0m\u001b[1;33m\u001b[0m\u001b[1;33m\u001b[0m\u001b[0m\n\u001b[0;32m   6657\u001b[0m             \u001b[1;31m# GH#45236 This is faster than get_group_index below\u001b[0m\u001b[1;33m\u001b[0m\u001b[1;33m\u001b[0m\u001b[0m\n",
            "\u001b[1;31mKeyError\u001b[0m: Index(['hdsshhid'], dtype='object')"
          ]
        }
      ],
      "source": [
        "hdss_df.duplicated(subset='hdsshhid').sum()"
      ]
    },
    {
      "cell_type": "code",
      "execution_count": null,
      "metadata": {
        "id": "AI-bVsPEZNXa"
      },
      "outputs": [],
      "source": [
        "#indexer = rl.Index()\n",
        "#indexer.block(left_on='dob', right_on='dob')\n",
        "#pairs = indexer.index(facility_df, hdss_df)"
      ]
    },
    {
      "cell_type": "code",
      "execution_count": null,
      "metadata": {
        "id": "jKEiH-AbCKbI"
      },
      "outputs": [],
      "source": [
        "#indexer = rl.Index()\n",
        "#indexer.block(left_on='fullname', right_on='fullname')\n",
        "#pairs = indexer.index(facility_df, hdss_df)"
      ]
    },
    {
      "cell_type": "code",
      "execution_count": 35,
      "metadata": {
        "id": "Fk0pEXJbaQ4X"
      },
      "outputs": [],
      "source": [
        "indexer = rl.Index()\n",
        "indexer.block(left_on='firstname', right_on='firstname')\n",
        "pairs = indexer.index(hdss_df, facility_df)"
      ]
    },
    {
      "cell_type": "code",
      "execution_count": null,
      "metadata": {
        "id": "K9zI9QPNlB8c"
      },
      "outputs": [],
      "source": [
        "#indexer = rl.Index()\n",
        "#indexer.block(left_on='sex', right_on='sex')\n",
        "#pairs = indexer.index(facility_df, hdss_df)"
      ]
    },
    {
      "cell_type": "code",
      "execution_count": 36,
      "metadata": {
        "colab": {
          "base_uri": "https://localhost:8080/",
          "height": 455
        },
        "id": "RLDoTGRIal_r",
        "outputId": "409ec047-8cec-4928-8851-1cb6b2b1034a"
      },
      "outputs": [
        {
          "data": {
            "text/html": [
              "<div>\n",
              "<style scoped>\n",
              "    .dataframe tbody tr th:only-of-type {\n",
              "        vertical-align: middle;\n",
              "    }\n",
              "\n",
              "    .dataframe tbody tr th {\n",
              "        vertical-align: top;\n",
              "    }\n",
              "\n",
              "    .dataframe thead th {\n",
              "        text-align: right;\n",
              "    }\n",
              "</style>\n",
              "<table border=\"1\" class=\"dataframe\">\n",
              "  <thead>\n",
              "    <tr style=\"text-align: right;\">\n",
              "      <th></th>\n",
              "      <th></th>\n",
              "      <th>firstname</th>\n",
              "      <th>fullname</th>\n",
              "      <th>dob</th>\n",
              "      <th>sex</th>\n",
              "    </tr>\n",
              "    <tr>\n",
              "      <th>recnr_1</th>\n",
              "      <th>recnr_2</th>\n",
              "      <th></th>\n",
              "      <th></th>\n",
              "      <th></th>\n",
              "      <th></th>\n",
              "    </tr>\n",
              "  </thead>\n",
              "  <tbody>\n",
              "    <tr>\n",
              "      <th rowspan=\"5\" valign=\"top\">2</th>\n",
              "      <th>2</th>\n",
              "      <td>1.0</td>\n",
              "      <td>1.0</td>\n",
              "      <td>1</td>\n",
              "      <td>1</td>\n",
              "    </tr>\n",
              "    <tr>\n",
              "      <th>261</th>\n",
              "      <td>1.0</td>\n",
              "      <td>0.0</td>\n",
              "      <td>0</td>\n",
              "      <td>1</td>\n",
              "    </tr>\n",
              "    <tr>\n",
              "      <th>277</th>\n",
              "      <td>1.0</td>\n",
              "      <td>0.0</td>\n",
              "      <td>0</td>\n",
              "      <td>1</td>\n",
              "    </tr>\n",
              "    <tr>\n",
              "      <th>492</th>\n",
              "      <td>1.0</td>\n",
              "      <td>0.0</td>\n",
              "      <td>0</td>\n",
              "      <td>1</td>\n",
              "    </tr>\n",
              "    <tr>\n",
              "      <th>570</th>\n",
              "      <td>1.0</td>\n",
              "      <td>0.0</td>\n",
              "      <td>0</td>\n",
              "      <td>1</td>\n",
              "    </tr>\n",
              "    <tr>\n",
              "      <th>...</th>\n",
              "      <th>...</th>\n",
              "      <td>...</td>\n",
              "      <td>...</td>\n",
              "      <td>...</td>\n",
              "      <td>...</td>\n",
              "    </tr>\n",
              "    <tr>\n",
              "      <th>2866</th>\n",
              "      <th>2866</th>\n",
              "      <td>1.0</td>\n",
              "      <td>1.0</td>\n",
              "      <td>1</td>\n",
              "      <td>1</td>\n",
              "    </tr>\n",
              "    <tr>\n",
              "      <th>2873</th>\n",
              "      <th>2873</th>\n",
              "      <td>1.0</td>\n",
              "      <td>1.0</td>\n",
              "      <td>1</td>\n",
              "      <td>1</td>\n",
              "    </tr>\n",
              "    <tr>\n",
              "      <th>2875</th>\n",
              "      <th>2875</th>\n",
              "      <td>1.0</td>\n",
              "      <td>1.0</td>\n",
              "      <td>1</td>\n",
              "      <td>1</td>\n",
              "    </tr>\n",
              "    <tr>\n",
              "      <th>2880</th>\n",
              "      <th>2880</th>\n",
              "      <td>1.0</td>\n",
              "      <td>1.0</td>\n",
              "      <td>1</td>\n",
              "      <td>1</td>\n",
              "    </tr>\n",
              "    <tr>\n",
              "      <th>2888</th>\n",
              "      <th>2888</th>\n",
              "      <td>1.0</td>\n",
              "      <td>1.0</td>\n",
              "      <td>1</td>\n",
              "      <td>1</td>\n",
              "    </tr>\n",
              "  </tbody>\n",
              "</table>\n",
              "<p>26264 rows × 4 columns</p>\n",
              "</div>"
            ],
            "text/plain": [
              "                 firstname  fullname  dob  sex\n",
              "recnr_1 recnr_2                               \n",
              "2       2              1.0       1.0    1    1\n",
              "        261            1.0       0.0    0    1\n",
              "        277            1.0       0.0    0    1\n",
              "        492            1.0       0.0    0    1\n",
              "        570            1.0       0.0    0    1\n",
              "...                    ...       ...  ...  ...\n",
              "2866    2866           1.0       1.0    1    1\n",
              "2873    2873           1.0       1.0    1    1\n",
              "2875    2875           1.0       1.0    1    1\n",
              "2880    2880           1.0       1.0    1    1\n",
              "2888    2888           1.0       1.0    1    1\n",
              "\n",
              "[26264 rows x 4 columns]"
            ]
          },
          "execution_count": 36,
          "metadata": {},
          "output_type": "execute_result"
        }
      ],
      "source": [
        "compare = rl.Compare()\n",
        "\n",
        "compare.string('firstname', 'firstname', method='jarowinkler', label='firstname')\n",
        "compare.string('fullname', 'fullname', method='lcs', threshold = 0.70, label='fullname')\n",
        "compare.date('dob', 'dob', label='dob')\n",
        "compare.exact('sex', 'sex', label='sex')\n",
        "\n",
        "\n",
        "potential_matches=compare.compute(pairs, hdss_df, facility_df)\n",
        "potential_matches"
      ]
    },
    {
      "cell_type": "code",
      "execution_count": 37,
      "metadata": {
        "colab": {
          "base_uri": "https://localhost:8080/"
        },
        "id": "6TS5EgGi_iAm",
        "outputId": "80be62d9-eeda-4f98-8a8f-56aa185e1bc1"
      },
      "outputs": [
        {
          "data": {
            "text/plain": [
              "23362"
            ]
          },
          "execution_count": 37,
          "metadata": {},
          "output_type": "execute_result"
        }
      ],
      "source": [
        "potential_matches.reset_index().duplicated(subset=['recnr_1']).sum()"
      ]
    },
    {
      "cell_type": "code",
      "execution_count": 38,
      "metadata": {
        "colab": {
          "base_uri": "https://localhost:8080/"
        },
        "id": "3CqFZWH8AvWg",
        "outputId": "a01a0750-a165-4e7b-845e-0b24f0d3c8b8"
      },
      "outputs": [
        {
          "data": {
            "text/plain": [
              "23362"
            ]
          },
          "execution_count": 38,
          "metadata": {},
          "output_type": "execute_result"
        }
      ],
      "source": [
        "potential_matches.reset_index().duplicated(subset=['recnr_2']).sum()"
      ]
    },
    {
      "cell_type": "code",
      "execution_count": 39,
      "metadata": {
        "colab": {
          "base_uri": "https://localhost:8080/"
        },
        "id": "cP6uz9RFia0X",
        "outputId": "020604d4-7ac9-43b7-a663-84412cb5b6a6"
      },
      "outputs": [
        {
          "data": {
            "text/plain": [
              "4708"
            ]
          },
          "execution_count": 39,
          "metadata": {},
          "output_type": "execute_result"
        }
      ],
      "source": [
        "#lr=recordlinkage.LogisticRegressionClassifier()\n",
        "#nb=recordlinkage.NaiveBayesClassifier()\n",
        "#ecm=recordlinkage.ECMClassifier()\n",
        "kmeans=rl.KMeansClassifier()\n",
        "kmeans.fit(potential_matches)\n",
        "matched_indices = kmeans.predict(potential_matches)\n",
        "len(matched_indices)"
      ]
    },
    {
      "cell_type": "code",
      "execution_count": null,
      "metadata": {
        "colab": {
          "base_uri": "https://localhost:8080/",
          "height": 990
        },
        "id": "OJ9YuI_RJZVU",
        "outputId": "29b84907-50c4-43b6-ff14-0ce0bf2ec6a2"
      },
      "outputs": [
        {
          "data": {
            "text/html": [
              "\n",
              "  <div id=\"df-493880e1-43e3-46cd-9a55-8d9cc2cb4779\" class=\"colab-df-container\">\n",
              "    <div>\n",
              "<style scoped>\n",
              "    .dataframe tbody tr th:only-of-type {\n",
              "        vertical-align: middle;\n",
              "    }\n",
              "\n",
              "    .dataframe tbody tr th {\n",
              "        vertical-align: top;\n",
              "    }\n",
              "\n",
              "    .dataframe thead th {\n",
              "        text-align: right;\n",
              "    }\n",
              "</style>\n",
              "<table border=\"1\" class=\"dataframe\">\n",
              "  <thead>\n",
              "    <tr style=\"text-align: right;\">\n",
              "      <th></th>\n",
              "      <th>firstname</th>\n",
              "      <th>lastname</th>\n",
              "      <th>petname</th>\n",
              "      <th>dob</th>\n",
              "      <th>sex</th>\n",
              "      <th>nationalid</th>\n",
              "      <th>hdssid</th>\n",
              "      <th>hdsshhid</th>\n",
              "      <th>fullname</th>\n",
              "      <th>patientid</th>\n",
              "      <th>visitdate</th>\n",
              "    </tr>\n",
              "  </thead>\n",
              "  <tbody>\n",
              "    <tr>\n",
              "      <th>3482</th>\n",
              "      <td>Ababu</td>\n",
              "      <td>Crispus</td>\n",
              "      <td>Lwasa</td>\n",
              "      <td>2006-04-23</td>\n",
              "      <td>1</td>\n",
              "      <td>NaN</td>\n",
              "      <td>I23482</td>\n",
              "      <td>HH103482</td>\n",
              "      <td>Ababu Crispus Lwasa</td>\n",
              "      <td>NaN</td>\n",
              "      <td>NaT</td>\n",
              "    </tr>\n",
              "    <tr>\n",
              "      <th>1209</th>\n",
              "      <td>Ababu</td>\n",
              "      <td>Crispus</td>\n",
              "      <td>Lwasa</td>\n",
              "      <td>2006-04-23</td>\n",
              "      <td>1</td>\n",
              "      <td>N_ID_8585</td>\n",
              "      <td>NaN</td>\n",
              "      <td>NaN</td>\n",
              "      <td>Ababu Crispus Lwasa</td>\n",
              "      <td>3278.0</td>\n",
              "      <td>2020-01-15</td>\n",
              "    </tr>\n",
              "    <tr>\n",
              "      <th>1217</th>\n",
              "      <td>Abalyogera</td>\n",
              "      <td>Namulondo</td>\n",
              "      <td>NaN</td>\n",
              "      <td>1941-06-07</td>\n",
              "      <td>2</td>\n",
              "      <td>NaN</td>\n",
              "      <td>I21217</td>\n",
              "      <td>HH101217</td>\n",
              "      <td>Abalyogera Namulondo</td>\n",
              "      <td>NaN</td>\n",
              "      <td>NaT</td>\n",
              "    </tr>\n",
              "    <tr>\n",
              "      <th>594</th>\n",
              "      <td>Abalyogera</td>\n",
              "      <td>Namulondo</td>\n",
              "      <td>Omutima</td>\n",
              "      <td>1941-07-13</td>\n",
              "      <td>2</td>\n",
              "      <td>N_ID_6746</td>\n",
              "      <td>NaN</td>\n",
              "      <td>NaN</td>\n",
              "      <td>Abalyogera Namulondo Omutima</td>\n",
              "      <td>2664.0</td>\n",
              "      <td>2019-01-18</td>\n",
              "    </tr>\n",
              "    <tr>\n",
              "      <th>655</th>\n",
              "      <td>Abasa</td>\n",
              "      <td>Bukosi</td>\n",
              "      <td>Jajja</td>\n",
              "      <td>1974-05-07</td>\n",
              "      <td>1</td>\n",
              "      <td>NaN</td>\n",
              "      <td>I20655</td>\n",
              "      <td>HH100655</td>\n",
              "      <td>Abasa Bukosi Jajja</td>\n",
              "      <td>NaN</td>\n",
              "      <td>NaT</td>\n",
              "    </tr>\n",
              "    <tr>\n",
              "      <th>989</th>\n",
              "      <td>Abasa</td>\n",
              "      <td>Bukosi</td>\n",
              "      <td>Awiti</td>\n",
              "      <td>1974-12-07</td>\n",
              "      <td>1</td>\n",
              "      <td>N_ID_7928</td>\n",
              "      <td>NaN</td>\n",
              "      <td>NaN</td>\n",
              "      <td>Abasa Bukosi Awiti</td>\n",
              "      <td>3058.0</td>\n",
              "      <td>2019-07-14</td>\n",
              "    </tr>\n",
              "    <tr>\n",
              "      <th>680</th>\n",
              "      <td>Abatuka</td>\n",
              "      <td>Nahiya</td>\n",
              "      <td>Fanda</td>\n",
              "      <td>1985-02-25</td>\n",
              "      <td>2</td>\n",
              "      <td>N_ID_7004</td>\n",
              "      <td>NaN</td>\n",
              "      <td>NaN</td>\n",
              "      <td>Abatuka Nahiya Fanda</td>\n",
              "      <td>2750.0</td>\n",
              "      <td>2018-08-29</td>\n",
              "    </tr>\n",
              "    <tr>\n",
              "      <th>3246</th>\n",
              "      <td>Abatuka</td>\n",
              "      <td>Nahiya</td>\n",
              "      <td>Fanda</td>\n",
              "      <td>1985-02-25</td>\n",
              "      <td>2</td>\n",
              "      <td>NaN</td>\n",
              "      <td>I23246</td>\n",
              "      <td>HH103246</td>\n",
              "      <td>Abatuka Nahiya Fanda</td>\n",
              "      <td>NaN</td>\n",
              "      <td>NaT</td>\n",
              "    </tr>\n",
              "    <tr>\n",
              "      <th>3282</th>\n",
              "      <td>Abbo</td>\n",
              "      <td>Shatra</td>\n",
              "      <td>NaN</td>\n",
              "      <td>1934-06-05</td>\n",
              "      <td>2</td>\n",
              "      <td>NaN</td>\n",
              "      <td>I23282</td>\n",
              "      <td>HH103282</td>\n",
              "      <td>Abbo Shatra</td>\n",
              "      <td>NaN</td>\n",
              "      <td>NaT</td>\n",
              "    </tr>\n",
              "    <tr>\n",
              "      <th>1393</th>\n",
              "      <td>Abbo</td>\n",
              "      <td>Shatra</td>\n",
              "      <td>Kisanja</td>\n",
              "      <td>1934-04-16</td>\n",
              "      <td>2</td>\n",
              "      <td>N_ID_9137</td>\n",
              "      <td>NaN</td>\n",
              "      <td>NaN</td>\n",
              "      <td>Abbo Shatra Kisanja</td>\n",
              "      <td>3462.0</td>\n",
              "      <td>2022-02-24</td>\n",
              "    </tr>\n",
              "    <tr>\n",
              "      <th>2313</th>\n",
              "      <td>Abdallah</td>\n",
              "      <td>Richard</td>\n",
              "      <td>Afa</td>\n",
              "      <td>2021-12-09</td>\n",
              "      <td>1</td>\n",
              "      <td>NaN</td>\n",
              "      <td>I22313</td>\n",
              "      <td>HH102313</td>\n",
              "      <td>Abdallah Richard Afa</td>\n",
              "      <td>NaN</td>\n",
              "      <td>NaT</td>\n",
              "    </tr>\n",
              "    <tr>\n",
              "      <th>2313</th>\n",
              "      <td>Abdallah</td>\n",
              "      <td>Richard</td>\n",
              "      <td>Afa</td>\n",
              "      <td>2021-12-09</td>\n",
              "      <td>1</td>\n",
              "      <td>NaN</td>\n",
              "      <td>I22313</td>\n",
              "      <td>HH102313</td>\n",
              "      <td>Abdallah Richard Afa</td>\n",
              "      <td>NaN</td>\n",
              "      <td>NaT</td>\n",
              "    </tr>\n",
              "    <tr>\n",
              "      <th>2170</th>\n",
              "      <td>Abdallah</td>\n",
              "      <td>Kaamu</td>\n",
              "      <td>Kiiza</td>\n",
              "      <td>1949-04-12</td>\n",
              "      <td>1</td>\n",
              "      <td>NaN</td>\n",
              "      <td>I22170</td>\n",
              "      <td>HH102170</td>\n",
              "      <td>Abdallah Kaamu Kiiza</td>\n",
              "      <td>NaN</td>\n",
              "      <td>NaT</td>\n",
              "    </tr>\n",
              "    <tr>\n",
              "      <th>1319</th>\n",
              "      <td>Abdallah</td>\n",
              "      <td>Kusaini</td>\n",
              "      <td>Jajja</td>\n",
              "      <td>1994-06-12</td>\n",
              "      <td>1</td>\n",
              "      <td>NaN</td>\n",
              "      <td>I21319</td>\n",
              "      <td>HH101319</td>\n",
              "      <td>Abdallah Kusaini Jajja</td>\n",
              "      <td>NaN</td>\n",
              "      <td>NaT</td>\n",
              "    </tr>\n",
              "    <tr>\n",
              "      <th>237</th>\n",
              "      <td>Abdallah</td>\n",
              "      <td>Richard</td>\n",
              "      <td>Afa</td>\n",
              "      <td>2021-12-09</td>\n",
              "      <td>1</td>\n",
              "      <td>N_ID_5666</td>\n",
              "      <td>NaN</td>\n",
              "      <td>NaN</td>\n",
              "      <td>Abdallah Richard Afa</td>\n",
              "      <td>2307.0</td>\n",
              "      <td>2022-08-20</td>\n",
              "    </tr>\n",
              "    <tr>\n",
              "      <th>1462</th>\n",
              "      <td>Abdallah</td>\n",
              "      <td>Richard</td>\n",
              "      <td>Afa</td>\n",
              "      <td>2021-08-23</td>\n",
              "      <td>1</td>\n",
              "      <td>N_ID_9344</td>\n",
              "      <td>NaN</td>\n",
              "      <td>NaN</td>\n",
              "      <td>Abdallah Richard Afa</td>\n",
              "      <td>3531.0</td>\n",
              "      <td>2022-03-21</td>\n",
              "    </tr>\n",
              "    <tr>\n",
              "      <th>1383</th>\n",
              "      <td>Abdallah</td>\n",
              "      <td>Kaamu</td>\n",
              "      <td>Nkima</td>\n",
              "      <td>1949-11-21</td>\n",
              "      <td>1</td>\n",
              "      <td>N_ID_9107</td>\n",
              "      <td>NaN</td>\n",
              "      <td>NaN</td>\n",
              "      <td>Abdallah Kaamu Nkima</td>\n",
              "      <td>3452.0</td>\n",
              "      <td>2019-02-20</td>\n",
              "    </tr>\n",
              "    <tr>\n",
              "      <th>2463</th>\n",
              "      <td>Abdallah</td>\n",
              "      <td>Kusaini</td>\n",
              "      <td>Jajja</td>\n",
              "      <td>1994-11-23</td>\n",
              "      <td>1</td>\n",
              "      <td>N_ID_12386</td>\n",
              "      <td>NaN</td>\n",
              "      <td>NaN</td>\n",
              "      <td>Abdallah Kusaini Jajja</td>\n",
              "      <td>4530.0</td>\n",
              "      <td>2019-03-22</td>\n",
              "    </tr>\n",
              "    <tr>\n",
              "      <th>3850</th>\n",
              "      <td>Abdu</td>\n",
              "      <td>Muwunba</td>\n",
              "      <td>Mwijukye</td>\n",
              "      <td>1996-04-19</td>\n",
              "      <td>1</td>\n",
              "      <td>NaN</td>\n",
              "      <td>I23850</td>\n",
              "      <td>HH103850</td>\n",
              "      <td>Abdu Muwunba Mwijukye</td>\n",
              "      <td>NaN</td>\n",
              "      <td>NaT</td>\n",
              "    </tr>\n",
              "    <tr>\n",
              "      <th>2020</th>\n",
              "      <td>Abdu</td>\n",
              "      <td>Muzeyi</td>\n",
              "      <td>Muhammed</td>\n",
              "      <td>1969-03-20</td>\n",
              "      <td>1</td>\n",
              "      <td>N_ID_11021</td>\n",
              "      <td>NaN</td>\n",
              "      <td>NaN</td>\n",
              "      <td>Abdu Muzeyi Muhammed</td>\n",
              "      <td>4088.0</td>\n",
              "      <td>2021-09-01</td>\n",
              "    </tr>\n",
              "    <tr>\n",
              "      <th>1980</th>\n",
              "      <td>Abdu</td>\n",
              "      <td>Muwunba</td>\n",
              "      <td>Mwijukye</td>\n",
              "      <td>1996-04-19</td>\n",
              "      <td>1</td>\n",
              "      <td>N_ID_10901</td>\n",
              "      <td>NaN</td>\n",
              "      <td>NaN</td>\n",
              "      <td>Abdu Muwunba Mwijukye</td>\n",
              "      <td>4048.0</td>\n",
              "      <td>2019-06-01</td>\n",
              "    </tr>\n",
              "    <tr>\n",
              "      <th>77</th>\n",
              "      <td>Abdu</td>\n",
              "      <td>Muzeyi</td>\n",
              "      <td>Muhammed</td>\n",
              "      <td>1969-03-20</td>\n",
              "      <td>1</td>\n",
              "      <td>NaN</td>\n",
              "      <td>I20077</td>\n",
              "      <td>HH100077</td>\n",
              "      <td>Abdu Muzeyi Muhammed</td>\n",
              "      <td>NaN</td>\n",
              "      <td>NaT</td>\n",
              "    </tr>\n",
              "    <tr>\n",
              "      <th>2455</th>\n",
              "      <td>Abdu-Hakim</td>\n",
              "      <td>Kavekuno</td>\n",
              "      <td>Najjuma</td>\n",
              "      <td>2017-11-23</td>\n",
              "      <td>1</td>\n",
              "      <td>N_ID_12362</td>\n",
              "      <td>NaN</td>\n",
              "      <td>NaN</td>\n",
              "      <td>Abdu-Hakim Kavekuno Najjuma</td>\n",
              "      <td>4522.0</td>\n",
              "      <td>2021-08-29</td>\n",
              "    </tr>\n",
              "    <tr>\n",
              "      <th>176</th>\n",
              "      <td>Abdu-Hakim</td>\n",
              "      <td>Kavekuno</td>\n",
              "      <td>Najjuma</td>\n",
              "      <td>2017-11-23</td>\n",
              "      <td>1</td>\n",
              "      <td>NaN</td>\n",
              "      <td>I20176</td>\n",
              "      <td>HH100176</td>\n",
              "      <td>Abdu-Hakim Kavekuno Najjuma</td>\n",
              "      <td>NaN</td>\n",
              "      <td>NaT</td>\n",
              "    </tr>\n",
              "    <tr>\n",
              "      <th>3952</th>\n",
              "      <td>Abdu-Hakim</td>\n",
              "      <td>Rahuman</td>\n",
              "      <td>Kalyango</td>\n",
              "      <td>1939-05-03</td>\n",
              "      <td>1</td>\n",
              "      <td>NaN</td>\n",
              "      <td>I23952</td>\n",
              "      <td>HH103952</td>\n",
              "      <td>Abdu-Hakim Rahuman Kalyango</td>\n",
              "      <td>NaN</td>\n",
              "      <td>NaT</td>\n",
              "    </tr>\n",
              "    <tr>\n",
              "      <th>2568</th>\n",
              "      <td>Abdu-Hakim</td>\n",
              "      <td>Rahuman</td>\n",
              "      <td>Kalyango</td>\n",
              "      <td>1939-05-03</td>\n",
              "      <td>1</td>\n",
              "      <td>N_ID_12704</td>\n",
              "      <td>NaN</td>\n",
              "      <td>NaN</td>\n",
              "      <td>Abdu-Hakim Rahuman Kalyango</td>\n",
              "      <td>4636.0</td>\n",
              "      <td>2022-04-01</td>\n",
              "    </tr>\n",
              "    <tr>\n",
              "      <th>1042</th>\n",
              "      <td>Abdul-Shakulu</td>\n",
              "      <td>Aluvin</td>\n",
              "      <td>Mwesige</td>\n",
              "      <td>2022-12-13</td>\n",
              "      <td>1</td>\n",
              "      <td>NaN</td>\n",
              "      <td>I21042</td>\n",
              "      <td>HH101042</td>\n",
              "      <td>Abdul-Shakulu Aluvin Mwesige</td>\n",
              "      <td>NaN</td>\n",
              "      <td>NaT</td>\n",
              "    </tr>\n",
              "    <tr>\n",
              "      <th>645</th>\n",
              "      <td>Abdul-Shakulu</td>\n",
              "      <td>Aluvin</td>\n",
              "      <td>Nakyobe</td>\n",
              "      <td>2022-11-23</td>\n",
              "      <td>1</td>\n",
              "      <td>N_ID_6899</td>\n",
              "      <td>NaN</td>\n",
              "      <td>NaN</td>\n",
              "      <td>Abdul-Shakulu Aluvin Nakyobe</td>\n",
              "      <td>2715.0</td>\n",
              "      <td>2023-09-01</td>\n",
              "    </tr>\n",
              "    <tr>\n",
              "      <th>838</th>\n",
              "      <td>Abdusalamu</td>\n",
              "      <td>Lwabaga</td>\n",
              "      <td>Lubega</td>\n",
              "      <td>1959-01-24</td>\n",
              "      <td>1</td>\n",
              "      <td>N_ID_7478</td>\n",
              "      <td>NaN</td>\n",
              "      <td>NaN</td>\n",
              "      <td>Abdusalamu Lwabaga Lubega</td>\n",
              "      <td>2907.0</td>\n",
              "      <td>2019-02-02</td>\n",
              "    </tr>\n",
              "    <tr>\n",
              "      <th>755</th>\n",
              "      <td>Abdusalamu</td>\n",
              "      <td>Lwabaga</td>\n",
              "      <td>Lubega</td>\n",
              "      <td>1959-01-24</td>\n",
              "      <td>1</td>\n",
              "      <td>NaN</td>\n",
              "      <td>I20755</td>\n",
              "      <td>HH100755</td>\n",
              "      <td>Abdusalamu Lwabaga Lubega</td>\n",
              "      <td>NaN</td>\n",
              "      <td>NaT</td>\n",
              "    </tr>\n",
              "  </tbody>\n",
              "</table>\n",
              "</div>\n",
              "    <div class=\"colab-df-buttons\">\n",
              "\n",
              "  <div class=\"colab-df-container\">\n",
              "    <button class=\"colab-df-convert\" onclick=\"convertToInteractive('df-493880e1-43e3-46cd-9a55-8d9cc2cb4779')\"\n",
              "            title=\"Convert this dataframe to an interactive table.\"\n",
              "            style=\"display:none;\">\n",
              "\n",
              "  <svg xmlns=\"http://www.w3.org/2000/svg\" height=\"24px\" viewBox=\"0 -960 960 960\">\n",
              "    <path d=\"M120-120v-720h720v720H120Zm60-500h600v-160H180v160Zm220 220h160v-160H400v160Zm0 220h160v-160H400v160ZM180-400h160v-160H180v160Zm440 0h160v-160H620v160ZM180-180h160v-160H180v160Zm440 0h160v-160H620v160Z\"/>\n",
              "  </svg>\n",
              "    </button>\n",
              "\n",
              "  <style>\n",
              "    .colab-df-container {\n",
              "      display:flex;\n",
              "      gap: 12px;\n",
              "    }\n",
              "\n",
              "    .colab-df-convert {\n",
              "      background-color: #E8F0FE;\n",
              "      border: none;\n",
              "      border-radius: 50%;\n",
              "      cursor: pointer;\n",
              "      display: none;\n",
              "      fill: #1967D2;\n",
              "      height: 32px;\n",
              "      padding: 0 0 0 0;\n",
              "      width: 32px;\n",
              "    }\n",
              "\n",
              "    .colab-df-convert:hover {\n",
              "      background-color: #E2EBFA;\n",
              "      box-shadow: 0px 1px 2px rgba(60, 64, 67, 0.3), 0px 1px 3px 1px rgba(60, 64, 67, 0.15);\n",
              "      fill: #174EA6;\n",
              "    }\n",
              "\n",
              "    .colab-df-buttons div {\n",
              "      margin-bottom: 4px;\n",
              "    }\n",
              "\n",
              "    [theme=dark] .colab-df-convert {\n",
              "      background-color: #3B4455;\n",
              "      fill: #D2E3FC;\n",
              "    }\n",
              "\n",
              "    [theme=dark] .colab-df-convert:hover {\n",
              "      background-color: #434B5C;\n",
              "      box-shadow: 0px 1px 3px 1px rgba(0, 0, 0, 0.15);\n",
              "      filter: drop-shadow(0px 1px 2px rgba(0, 0, 0, 0.3));\n",
              "      fill: #FFFFFF;\n",
              "    }\n",
              "  </style>\n",
              "\n",
              "    <script>\n",
              "      const buttonEl =\n",
              "        document.querySelector('#df-493880e1-43e3-46cd-9a55-8d9cc2cb4779 button.colab-df-convert');\n",
              "      buttonEl.style.display =\n",
              "        google.colab.kernel.accessAllowed ? 'block' : 'none';\n",
              "\n",
              "      async function convertToInteractive(key) {\n",
              "        const element = document.querySelector('#df-493880e1-43e3-46cd-9a55-8d9cc2cb4779');\n",
              "        const dataTable =\n",
              "          await google.colab.kernel.invokeFunction('convertToInteractive',\n",
              "                                                    [key], {});\n",
              "        if (!dataTable) return;\n",
              "\n",
              "        const docLinkHtml = 'Like what you see? Visit the ' +\n",
              "          '<a target=\"_blank\" href=https://colab.research.google.com/notebooks/data_table.ipynb>data table notebook</a>'\n",
              "          + ' to learn more about interactive tables.';\n",
              "        element.innerHTML = '';\n",
              "        dataTable['output_type'] = 'display_data';\n",
              "        await google.colab.output.renderOutput(dataTable, element);\n",
              "        const docLink = document.createElement('div');\n",
              "        docLink.innerHTML = docLinkHtml;\n",
              "        element.appendChild(docLink);\n",
              "      }\n",
              "    </script>\n",
              "  </div>\n",
              "\n",
              "\n",
              "<div id=\"df-3349558c-25ac-4e97-ad45-a209074f1823\">\n",
              "  <button class=\"colab-df-quickchart\" onclick=\"quickchart('df-3349558c-25ac-4e97-ad45-a209074f1823')\"\n",
              "            title=\"Suggest charts\"\n",
              "            style=\"display:none;\">\n",
              "\n",
              "<svg xmlns=\"http://www.w3.org/2000/svg\" height=\"24px\"viewBox=\"0 0 24 24\"\n",
              "     width=\"24px\">\n",
              "    <g>\n",
              "        <path d=\"M19 3H5c-1.1 0-2 .9-2 2v14c0 1.1.9 2 2 2h14c1.1 0 2-.9 2-2V5c0-1.1-.9-2-2-2zM9 17H7v-7h2v7zm4 0h-2V7h2v10zm4 0h-2v-4h2v4z\"/>\n",
              "    </g>\n",
              "</svg>\n",
              "  </button>\n",
              "\n",
              "<style>\n",
              "  .colab-df-quickchart {\n",
              "      --bg-color: #E8F0FE;\n",
              "      --fill-color: #1967D2;\n",
              "      --hover-bg-color: #E2EBFA;\n",
              "      --hover-fill-color: #174EA6;\n",
              "      --disabled-fill-color: #AAA;\n",
              "      --disabled-bg-color: #DDD;\n",
              "  }\n",
              "\n",
              "  [theme=dark] .colab-df-quickchart {\n",
              "      --bg-color: #3B4455;\n",
              "      --fill-color: #D2E3FC;\n",
              "      --hover-bg-color: #434B5C;\n",
              "      --hover-fill-color: #FFFFFF;\n",
              "      --disabled-bg-color: #3B4455;\n",
              "      --disabled-fill-color: #666;\n",
              "  }\n",
              "\n",
              "  .colab-df-quickchart {\n",
              "    background-color: var(--bg-color);\n",
              "    border: none;\n",
              "    border-radius: 50%;\n",
              "    cursor: pointer;\n",
              "    display: none;\n",
              "    fill: var(--fill-color);\n",
              "    height: 32px;\n",
              "    padding: 0;\n",
              "    width: 32px;\n",
              "  }\n",
              "\n",
              "  .colab-df-quickchart:hover {\n",
              "    background-color: var(--hover-bg-color);\n",
              "    box-shadow: 0 1px 2px rgba(60, 64, 67, 0.3), 0 1px 3px 1px rgba(60, 64, 67, 0.15);\n",
              "    fill: var(--button-hover-fill-color);\n",
              "  }\n",
              "\n",
              "  .colab-df-quickchart-complete:disabled,\n",
              "  .colab-df-quickchart-complete:disabled:hover {\n",
              "    background-color: var(--disabled-bg-color);\n",
              "    fill: var(--disabled-fill-color);\n",
              "    box-shadow: none;\n",
              "  }\n",
              "\n",
              "  .colab-df-spinner {\n",
              "    border: 2px solid var(--fill-color);\n",
              "    border-color: transparent;\n",
              "    border-bottom-color: var(--fill-color);\n",
              "    animation:\n",
              "      spin 1s steps(1) infinite;\n",
              "  }\n",
              "\n",
              "  @keyframes spin {\n",
              "    0% {\n",
              "      border-color: transparent;\n",
              "      border-bottom-color: var(--fill-color);\n",
              "      border-left-color: var(--fill-color);\n",
              "    }\n",
              "    20% {\n",
              "      border-color: transparent;\n",
              "      border-left-color: var(--fill-color);\n",
              "      border-top-color: var(--fill-color);\n",
              "    }\n",
              "    30% {\n",
              "      border-color: transparent;\n",
              "      border-left-color: var(--fill-color);\n",
              "      border-top-color: var(--fill-color);\n",
              "      border-right-color: var(--fill-color);\n",
              "    }\n",
              "    40% {\n",
              "      border-color: transparent;\n",
              "      border-right-color: var(--fill-color);\n",
              "      border-top-color: var(--fill-color);\n",
              "    }\n",
              "    60% {\n",
              "      border-color: transparent;\n",
              "      border-right-color: var(--fill-color);\n",
              "    }\n",
              "    80% {\n",
              "      border-color: transparent;\n",
              "      border-right-color: var(--fill-color);\n",
              "      border-bottom-color: var(--fill-color);\n",
              "    }\n",
              "    90% {\n",
              "      border-color: transparent;\n",
              "      border-bottom-color: var(--fill-color);\n",
              "    }\n",
              "  }\n",
              "</style>\n",
              "\n",
              "  <script>\n",
              "    async function quickchart(key) {\n",
              "      const quickchartButtonEl =\n",
              "        document.querySelector('#' + key + ' button');\n",
              "      quickchartButtonEl.disabled = true;  // To prevent multiple clicks.\n",
              "      quickchartButtonEl.classList.add('colab-df-spinner');\n",
              "      try {\n",
              "        const charts = await google.colab.kernel.invokeFunction(\n",
              "            'suggestCharts', [key], {});\n",
              "      } catch (error) {\n",
              "        console.error('Error during call to suggestCharts:', error);\n",
              "      }\n",
              "      quickchartButtonEl.classList.remove('colab-df-spinner');\n",
              "      quickchartButtonEl.classList.add('colab-df-quickchart-complete');\n",
              "    }\n",
              "    (() => {\n",
              "      let quickchartButtonEl =\n",
              "        document.querySelector('#df-3349558c-25ac-4e97-ad45-a209074f1823 button');\n",
              "      quickchartButtonEl.style.display =\n",
              "        google.colab.kernel.accessAllowed ? 'block' : 'none';\n",
              "    })();\n",
              "  </script>\n",
              "</div>\n",
              "\n",
              "    </div>\n",
              "  </div>\n"
            ],
            "text/plain": [
              "          firstname   lastname   petname        dob  sex  nationalid  hdssid  \\\n",
              "3482          Ababu    Crispus     Lwasa 2006-04-23    1         NaN  I23482   \n",
              "1209          Ababu    Crispus     Lwasa 2006-04-23    1   N_ID_8585     NaN   \n",
              "1217     Abalyogera  Namulondo       NaN 1941-06-07    2         NaN  I21217   \n",
              "594      Abalyogera  Namulondo   Omutima 1941-07-13    2   N_ID_6746     NaN   \n",
              "655           Abasa     Bukosi     Jajja 1974-05-07    1         NaN  I20655   \n",
              "989           Abasa     Bukosi     Awiti 1974-12-07    1   N_ID_7928     NaN   \n",
              "680         Abatuka     Nahiya     Fanda 1985-02-25    2   N_ID_7004     NaN   \n",
              "3246        Abatuka     Nahiya     Fanda 1985-02-25    2         NaN  I23246   \n",
              "3282           Abbo     Shatra       NaN 1934-06-05    2         NaN  I23282   \n",
              "1393           Abbo     Shatra   Kisanja 1934-04-16    2   N_ID_9137     NaN   \n",
              "2313       Abdallah    Richard       Afa 2021-12-09    1         NaN  I22313   \n",
              "2313       Abdallah    Richard       Afa 2021-12-09    1         NaN  I22313   \n",
              "2170       Abdallah      Kaamu     Kiiza 1949-04-12    1         NaN  I22170   \n",
              "1319       Abdallah    Kusaini     Jajja 1994-06-12    1         NaN  I21319   \n",
              "237        Abdallah    Richard       Afa 2021-12-09    1   N_ID_5666     NaN   \n",
              "1462       Abdallah    Richard       Afa 2021-08-23    1   N_ID_9344     NaN   \n",
              "1383       Abdallah      Kaamu     Nkima 1949-11-21    1   N_ID_9107     NaN   \n",
              "2463       Abdallah    Kusaini     Jajja 1994-11-23    1  N_ID_12386     NaN   \n",
              "3850           Abdu    Muwunba  Mwijukye 1996-04-19    1         NaN  I23850   \n",
              "2020           Abdu     Muzeyi  Muhammed 1969-03-20    1  N_ID_11021     NaN   \n",
              "1980           Abdu    Muwunba  Mwijukye 1996-04-19    1  N_ID_10901     NaN   \n",
              "77             Abdu     Muzeyi  Muhammed 1969-03-20    1         NaN  I20077   \n",
              "2455     Abdu-Hakim   Kavekuno   Najjuma 2017-11-23    1  N_ID_12362     NaN   \n",
              "176      Abdu-Hakim   Kavekuno   Najjuma 2017-11-23    1         NaN  I20176   \n",
              "3952     Abdu-Hakim    Rahuman  Kalyango 1939-05-03    1         NaN  I23952   \n",
              "2568     Abdu-Hakim    Rahuman  Kalyango 1939-05-03    1  N_ID_12704     NaN   \n",
              "1042  Abdul-Shakulu     Aluvin   Mwesige 2022-12-13    1         NaN  I21042   \n",
              "645   Abdul-Shakulu     Aluvin   Nakyobe 2022-11-23    1   N_ID_6899     NaN   \n",
              "838      Abdusalamu    Lwabaga    Lubega 1959-01-24    1   N_ID_7478     NaN   \n",
              "755      Abdusalamu    Lwabaga    Lubega 1959-01-24    1         NaN  I20755   \n",
              "\n",
              "      hdsshhid                      fullname  patientid  visitdate  \n",
              "3482  HH103482           Ababu Crispus Lwasa        NaN        NaT  \n",
              "1209       NaN           Ababu Crispus Lwasa     3278.0 2020-01-15  \n",
              "1217  HH101217         Abalyogera Namulondo         NaN        NaT  \n",
              "594        NaN  Abalyogera Namulondo Omutima     2664.0 2019-01-18  \n",
              "655   HH100655            Abasa Bukosi Jajja        NaN        NaT  \n",
              "989        NaN            Abasa Bukosi Awiti     3058.0 2019-07-14  \n",
              "680        NaN          Abatuka Nahiya Fanda     2750.0 2018-08-29  \n",
              "3246  HH103246          Abatuka Nahiya Fanda        NaN        NaT  \n",
              "3282  HH103282                  Abbo Shatra         NaN        NaT  \n",
              "1393       NaN           Abbo Shatra Kisanja     3462.0 2022-02-24  \n",
              "2313  HH102313          Abdallah Richard Afa        NaN        NaT  \n",
              "2313  HH102313          Abdallah Richard Afa        NaN        NaT  \n",
              "2170  HH102170          Abdallah Kaamu Kiiza        NaN        NaT  \n",
              "1319  HH101319        Abdallah Kusaini Jajja        NaN        NaT  \n",
              "237        NaN          Abdallah Richard Afa     2307.0 2022-08-20  \n",
              "1462       NaN          Abdallah Richard Afa     3531.0 2022-03-21  \n",
              "1383       NaN          Abdallah Kaamu Nkima     3452.0 2019-02-20  \n",
              "2463       NaN        Abdallah Kusaini Jajja     4530.0 2019-03-22  \n",
              "3850  HH103850         Abdu Muwunba Mwijukye        NaN        NaT  \n",
              "2020       NaN          Abdu Muzeyi Muhammed     4088.0 2021-09-01  \n",
              "1980       NaN         Abdu Muwunba Mwijukye     4048.0 2019-06-01  \n",
              "77    HH100077          Abdu Muzeyi Muhammed        NaN        NaT  \n",
              "2455       NaN   Abdu-Hakim Kavekuno Najjuma     4522.0 2021-08-29  \n",
              "176   HH100176   Abdu-Hakim Kavekuno Najjuma        NaN        NaT  \n",
              "3952  HH103952   Abdu-Hakim Rahuman Kalyango        NaN        NaT  \n",
              "2568       NaN   Abdu-Hakim Rahuman Kalyango     4636.0 2022-04-01  \n",
              "1042  HH101042  Abdul-Shakulu Aluvin Mwesige        NaN        NaT  \n",
              "645        NaN  Abdul-Shakulu Aluvin Nakyobe     2715.0 2023-09-01  \n",
              "838        NaN     Abdusalamu Lwabaga Lubega     2907.0 2019-02-02  \n",
              "755   HH100755     Abdusalamu Lwabaga Lubega        NaN        NaT  "
            ]
          },
          "execution_count": 54,
          "metadata": {},
          "output_type": "execute_result"
        }
      ],
      "source": [
        "hdss_facility = pd.concat([hdss_df.loc[matched_indices.get_level_values(0)], facility_df.loc[matched_indices.get_level_values(1)]])\n",
        "hdss_facility.sort_values('firstname').head(30)"
      ]
    },
    {
      "cell_type": "markdown",
      "metadata": {
        "id": "7ISS3-GnJbXv"
      },
      "source": []
    },
    {
      "cell_type": "code",
      "execution_count": null,
      "metadata": {
        "colab": {
          "base_uri": "https://localhost:8080/"
        },
        "id": "SF4FYt82ca4D",
        "outputId": "87efe43d-66e1-4d60-85de-784007834c4c"
      },
      "outputs": [
        {
          "data": {
            "text/plain": [
              "(7062, 11)"
            ]
          },
          "execution_count": 39,
          "metadata": {},
          "output_type": "execute_result"
        }
      ],
      "source": [
        "hdss_facility.shape"
      ]
    },
    {
      "cell_type": "code",
      "execution_count": null,
      "metadata": {
        "colab": {
          "base_uri": "https://localhost:8080/"
        },
        "id": "y8V0vinVOdhk",
        "outputId": "ce297df4-17cb-4d54-ff9f-1a1fe0fa9d5b"
      },
      "outputs": [
        {
          "data": {
            "text/plain": [
              "2311"
            ]
          },
          "execution_count": 51,
          "metadata": {},
          "output_type": "execute_result"
        }
      ],
      "source": [
        "hdss_facility.duplicated().sum()"
      ]
    },
    {
      "cell_type": "code",
      "execution_count": null,
      "metadata": {
        "id": "ROL7g1jHr8qj"
      },
      "outputs": [],
      "source": [
        "hdss_facility.drop_duplicates(inplace=True)"
      ]
    },
    {
      "cell_type": "code",
      "execution_count": null,
      "metadata": {
        "colab": {
          "base_uri": "https://localhost:8080/"
        },
        "id": "KdmfZgBQDaZ-",
        "outputId": "bc35c7b8-5a12-4717-9312-e2ad08579cc9"
      },
      "outputs": [
        {
          "data": {
            "text/plain": [
              "(4751, 11)"
            ]
          },
          "execution_count": 53,
          "metadata": {},
          "output_type": "execute_result"
        }
      ],
      "source": [
        "hdss_facility.shape"
      ]
    },
    {
      "cell_type": "code",
      "execution_count": null,
      "metadata": {
        "id": "yR9tjS2DDcQh"
      },
      "outputs": [],
      "source": []
    }
  ],
  "metadata": {
    "colab": {
      "authorship_tag": "ABX9TyOjEw+kWKeDxPJLRIF0s/Aj",
      "include_colab_link": true,
      "provenance": []
    },
    "kernelspec": {
      "display_name": "Python 3.12.0 64-bit",
      "language": "python",
      "name": "python3"
    },
    "language_info": {
      "codemirror_mode": {
        "name": "ipython",
        "version": 3
      },
      "file_extension": ".py",
      "mimetype": "text/x-python",
      "name": "python",
      "nbconvert_exporter": "python",
      "pygments_lexer": "ipython3",
      "version": "3.12.0"
    },
    "vscode": {
      "interpreter": {
        "hash": "17e456b7c732f0874d12df0f944780ee641181498e07db1889a12535cc323631"
      }
    }
  },
  "nbformat": 4,
  "nbformat_minor": 0
}
