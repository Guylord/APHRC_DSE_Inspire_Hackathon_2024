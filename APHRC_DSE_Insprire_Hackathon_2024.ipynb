{
  "nbformat": 4,
  "nbformat_minor": 0,
  "metadata": {
    "colab": {
      "provenance": [],
      "authorship_tag": "ABX9TyOS5QX8r9ChUreicGLom1ci",
      "include_colab_link": true
    },
    "kernelspec": {
      "name": "python3",
      "display_name": "Python 3"
    },
    "language_info": {
      "name": "python"
    }
  },
  "cells": [
    {
      "cell_type": "markdown",
      "metadata": {
        "id": "view-in-github",
        "colab_type": "text"
      },
      "source": [
        "<a href=\"https://colab.research.google.com/github/Guylord/APHRC_DSE_Insprire_Hackathon_2024/blob/main/APHRC_DSE_Insprire_Hackathon_2024.ipynb\" target=\"_parent\"><img src=\"https://colab.research.google.com/assets/colab-badge.svg\" alt=\"Open In Colab\"/></a>"
      ]
    },
    {
      "cell_type": "code",
      "source": [
        "from google.colab import drive\n",
        "\n",
        "drive.mount('/content/drive')"
      ],
      "metadata": {
        "colab": {
          "base_uri": "https://localhost:8080/"
        },
        "id": "nGLLP9VNCnIr",
        "outputId": "be88a35d-059d-4507-a055-c8e9e1b412a0"
      },
      "execution_count": null,
      "outputs": [
        {
          "output_type": "stream",
          "name": "stdout",
          "text": [
            "Drive already mounted at /content/drive; to attempt to forcibly remount, call drive.mount(\"/content/drive\", force_remount=True).\n"
          ]
        }
      ]
    },
    {
      "cell_type": "code",
      "execution_count": null,
      "metadata": {
        "id": "iwj3atD5-m2C"
      },
      "outputs": [],
      "source": [
        "import pandas as pd\n",
        "import numpy as np"
      ]
    },
    {
      "cell_type": "code",
      "source": [
        "hdss_df = pd.read_csv('/content/drive/MyDrive/APHRC-DSE Inspire Hackathon 2024/synthetic_hdss_v3.csv')\n",
        "facility_df = pd.read_csv('/content/drive/MyDrive/APHRC-DSE Inspire Hackathon 2024/synthetic_facility_v3.csv')\n",
        "\n",
        "print('HDSS INFO')\n",
        "hdss_df.info()\n",
        "print('\\n\\nFACILITY INFO')\n",
        "facility_df.info()"
      ],
      "metadata": {
        "colab": {
          "base_uri": "https://localhost:8080/"
        },
        "id": "QI-e8F7F_jXu",
        "outputId": "88acec4f-0fc3-4bac-8573-62ac5b3c7cdc"
      },
      "execution_count": null,
      "outputs": [
        {
          "output_type": "stream",
          "name": "stdout",
          "text": [
            "HDSS INFO\n",
            "<class 'pandas.core.frame.DataFrame'>\n",
            "RangeIndex: 4115 entries, 0 to 4114\n",
            "Data columns (total 9 columns):\n",
            " #   Column      Non-Null Count  Dtype  \n",
            "---  ------      --------------  -----  \n",
            " 0   recnr       4115 non-null   int64  \n",
            " 1   firstname   4115 non-null   object \n",
            " 2   lastname    4031 non-null   object \n",
            " 3   petname     2894 non-null   object \n",
            " 4   dob         4115 non-null   object \n",
            " 5   sex         4115 non-null   int64  \n",
            " 6   nationalid  0 non-null      float64\n",
            " 7   hdssid      4115 non-null   object \n",
            " 8   hdsshhid    4115 non-null   object \n",
            "dtypes: float64(1), int64(2), object(6)\n",
            "memory usage: 289.5+ KB\n",
            "\n",
            "\n",
            "FACILITY INFO\n",
            "<class 'pandas.core.frame.DataFrame'>\n",
            "RangeIndex: 2902 entries, 0 to 2901\n",
            "Data columns (total 9 columns):\n",
            " #   Column      Non-Null Count  Dtype \n",
            "---  ------      --------------  ----- \n",
            " 0   recnr       2902 non-null   int64 \n",
            " 1   firstname   2902 non-null   object\n",
            " 2   lastname    2835 non-null   object\n",
            " 3   petname     2511 non-null   object\n",
            " 4   dob         2902 non-null   object\n",
            " 5   sex         2902 non-null   int64 \n",
            " 6   nationalid  2902 non-null   object\n",
            " 7   patientid   2902 non-null   int64 \n",
            " 8   visitdate   2902 non-null   object\n",
            "dtypes: int64(3), object(6)\n",
            "memory usage: 204.2+ KB\n"
          ]
        }
      ]
    },
    {
      "cell_type": "code",
      "source": [],
      "metadata": {
        "id": "_5t0sWOMCuYy"
      },
      "execution_count": null,
      "outputs": []
    }
  ]
}